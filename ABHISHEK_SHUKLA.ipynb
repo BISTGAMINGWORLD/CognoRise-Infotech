{
  "cells": [
    {
      "cell_type": "markdown",
      "source": [
        "TASK-1 CALCULATOR"
      ],
      "metadata": {
        "id": "hbyG9p_ecweJ"
      }
    },
    {
      "cell_type": "code",
      "execution_count": 46,
      "metadata": {
        "colab": {
          "base_uri": "https://localhost:8080/"
        },
        "id": "PLrYK_iOhyys",
        "outputId": "fb110051-8391-4562-f06b-ba8ad0f5d405"
      },
      "outputs": [
        {
          "output_type": "stream",
          "name": "stdout",
          "text": [
            "Welcome to Simple Calculator App BY ABHISHEK\n",
            "\n",
            "Operations that can be performed:\n",
            "1. (+)\n",
            "2. (-)\n",
            "3. (*)\n",
            "4. (/)\n",
            "\n",
            "Enter operation number (1/2/3/4): 4\n",
            "Enter first number: 25\n",
            "Enter second number: 5\n",
            "Result: 5.0\n"
          ]
        }
      ],
      "source": [
        "# TASK 1 OF INTERNSHIP BY ABHISHEK SHUKLA\n",
        "\n",
        "\n",
        "# Function to add two numbers\n",
        "def add(x, y):\n",
        "    return x + y\n",
        "\n",
        "# Function to Subtract two numbers\n",
        "def subtract(x, y):\n",
        "    return x - y\n",
        "\n",
        "# Function to multiply two numbers\n",
        "def multiply(x, y):\n",
        "    return x * y\n",
        "\n",
        "# Function to Divide two numbers\n",
        "def divide(x, y):\n",
        "    if y == 0:\n",
        "        return \"Error! Division by zero.\"\n",
        "    else:\n",
        "        return x / y\n",
        "\n",
        "\n",
        "#Main Calculator\n",
        "\n",
        "def calculator():\n",
        "    print(\"Welcome to Simple Calculator App BY ABHISHEK\\n\")\n",
        "    print(\"Operations that can be performed:\")\n",
        "    print(\"1. (+)\")\n",
        "    print(\"2. (-)\")\n",
        "    print(\"3. (*)\")\n",
        "    print(\"4. (/)\\n\")\n",
        "\n",
        "#Operation Number\n",
        "    A = input(\"Enter operation number (1/2/3/4): \")\n",
        "\n",
        "    # First number\n",
        "    num1 = float(input(\"Enter first number: \"))\n",
        "    #second number\n",
        "    num2 = float(input(\"Enter second number: \"))\n",
        "\n",
        "    if A == '1':\n",
        "        print(\"Result:\", add(num1, num2))\n",
        "    elif A == '2':\n",
        "        print(\"Result:\", subtract(num1, num2))\n",
        "    elif A == '3':\n",
        "        print(\"Result:\", multiply(num1, num2))\n",
        "    elif A == '4':\n",
        "        print(\"Result:\", divide(num1, num2))\n",
        "    else:\n",
        "        print(\"Invalid input\")\n",
        "\n",
        "if __name__ == \"__main__\":\n",
        "    calculator()\n",
        "\n"
      ]
    },
    {
      "cell_type": "markdown",
      "source": [
        "TASK-2 PASSWORD GENERATOR"
      ],
      "metadata": {
        "id": "LOACYwkuc2Df"
      }
    },
    {
      "cell_type": "code",
      "source": [
        "# Password Generator Task 2\n",
        "import random\n",
        "import string\n",
        "\n",
        "def generate_password(length):\n",
        "\n",
        "    characters = string.ascii_letters + string.digits + string.punctuation\n",
        "\n",
        "    # Generate the password using random.choices\n",
        "    password = ''.join(random.choices(characters, k=length))\n",
        "\n",
        "    return password\n",
        "\n",
        "def main():\n",
        "    print(\"Welcome to Password Generator\\n\")\n",
        "\n",
        "    #the length of the password\n",
        "    length = int(input(\"Enter the desired length of the password: \"))\n",
        "\n",
        "    # Generate the password\n",
        "    password = generate_password(length)\n",
        "\n",
        "    # Display the generated password\n",
        "    print(\"\\nGenerated Password:\", password)\n",
        "\n",
        "if __name__ == \"__main__\":\n",
        "    main()\n"
      ],
      "metadata": {
        "colab": {
          "base_uri": "https://localhost:8080/"
        },
        "id": "MHuka51kWpN0",
        "outputId": "02bd6d42-97c2-4d6d-e2fe-cb6b01017a6a"
      },
      "execution_count": 47,
      "outputs": [
        {
          "output_type": "stream",
          "name": "stdout",
          "text": [
            "Welcome to Password Generator\n",
            "\n",
            "Enter the desired length of the password: 15\n",
            "\n",
            "Generated Password: DnQ4HY)Bx@H5},!\n"
          ]
        }
      ]
    },
    {
      "cell_type": "markdown",
      "source": [
        " TASK-3 ROLLING DICE"
      ],
      "metadata": {
        "id": "tWpsJrhfdCUp"
      }
    },
    {
      "cell_type": "code",
      "source": [
        "import random\n",
        "\n",
        "def roll_dice(num_sides, num_rolls):\n",
        "    print(f\"Rolling {num_rolls} dice with {num_sides} sides:\")\n",
        "    last_roll = None\n",
        "    for _ in range(num_rolls):\n",
        "        roll_result = random.randint(1, num_sides)\n",
        "        if _ == num_rolls - 1:\n",
        "            last_roll = roll_result\n",
        "        print(f\"Rolling: {roll_result}\")\n",
        "\n",
        "    if last_roll is not None:\n",
        "        print(f\"\\033[1mLast Roll: {last_roll}\\033[0m\")\n",
        "\n",
        "def main():\n",
        "    print(\"Welcome to Dice Rolling Simulator!\\n\")\n",
        "    num_sides = int(input(\"Enter the number of sides on the dice: \"))\n",
        "    num_rolls = int(input(\"Enter the number of rolls: \"))\n",
        "\n",
        "    if num_sides <= 0 or num_rolls <= 0:\n",
        "        print(\"Error: Number of sides and number of rolls must be positive integers.\")\n",
        "    else:\n",
        "        roll_dice(num_sides, num_rolls)\n",
        "\n",
        "if __name__ == \"__main__\":\n",
        "    main()\n",
        "\n"
      ],
      "metadata": {
        "colab": {
          "base_uri": "https://localhost:8080/"
        },
        "id": "no8z9KFrZVQJ",
        "outputId": "34cf9338-fa56-4c64-9109-a4ca32887576"
      },
      "execution_count": 48,
      "outputs": [
        {
          "output_type": "stream",
          "name": "stdout",
          "text": [
            "Welcome to Dice Rolling Simulator!\n",
            "\n",
            "Enter the number of sides on the dice: 6\n",
            "Enter the number of rolls: 10\n",
            "Rolling 10 dice with 6 sides:\n",
            "Rolling: 1\n",
            "Rolling: 5\n",
            "Rolling: 5\n",
            "Rolling: 6\n",
            "Rolling: 1\n",
            "Rolling: 5\n",
            "Rolling: 6\n",
            "Rolling: 4\n",
            "Rolling: 5\n",
            "Rolling: 5\n",
            "\u001b[1mLast Roll: 5\u001b[0m\n"
          ]
        }
      ]
    }
  ],
  "metadata": {
    "colab": {
      "provenance": []
    },
    "kernelspec": {
      "display_name": "Python 3",
      "name": "python3"
    },
    "language_info": {
      "name": "python"
    }
  },
  "nbformat": 4,
  "nbformat_minor": 0
}